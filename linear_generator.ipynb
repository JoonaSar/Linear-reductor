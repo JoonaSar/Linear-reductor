{
 "metadata": {
  "language_info": {
   "codemirror_mode": {
    "name": "ipython",
    "version": 3
   },
   "file_extension": ".py",
   "mimetype": "text/x-python",
   "name": "python",
   "nbconvert_exporter": "python",
   "pygments_lexer": "ipython3",
   "version": "3.8.5"
  },
  "orig_nbformat": 4,
  "kernelspec": {
   "name": "python3",
   "display_name": "Python 3.8.5 64-bit"
  },
  "interpreter": {
   "hash": "31f2aee4e71d21fbe5cf8b01ff0e069b9275f58929596ceb00d14d90e3e16cd6"
  }
 },
 "nbformat": 4,
 "nbformat_minor": 2,
 "cells": [
  {
   "cell_type": "code",
   "execution_count": 387,
   "metadata": {},
   "outputs": [],
   "source": [
    "import numpy as np \n",
    "import pandas as pd \n",
    "import portion as P\n",
    "import itertools\n",
    "from scipy.optimize import linprog\n",
    "from pulp import LpMaximize, LpProblem, LpStatus, lpSum, LpVariable \n",
    "from math import prod\n"
   ]
  },
  {
   "source": [
    "# Transforming LCL:s to linear problems\n",
    "\n",
    "Goal is to find $\\alpha, \\beta, a,b,c...$ such that if some $A, A, B$ is possible for active/passive nodes, then the corresponding $a+a+b \\leq \\beta / \\geq \\alpha$. Additionally it would be great to see if these values $a, b, c...$ could be expanded to intervals."
   ],
   "cell_type": "markdown",
   "metadata": {}
  },
  {
   "source": [
    "Example: problem\n",
    "\n",
    "```\n",
    "A AB AB\n",
    "\n",
    "B AB AB\n",
    "```\n",
    "can be interpreted as $\\alpha = 1, \\beta=2, A = \\left[ 0,\\frac{1}{3}\\right), B =  \\left(\\frac{2}{3}, 1\\right]$.\n",
    "\n",
    "What is the system of linear inequalities that could imply this?\n",
    "\n",
    "\\begin{align*}\n",
    "3a &\\leq \\beta \\\\\n",
    "2a+b &\\leq \\beta \\\\\n",
    "a+2b &\\leq \\beta \\\\\n",
    "3b &> \\beta \\\\\n",
    "\\\\\n",
    "3a &< \\alpha \\\\\n",
    "2a+b &\\geq \\alpha \\\\\n",
    "a+2b &\\geq \\alpha \\\\\n",
    "3b &\\geq \\alpha\n",
    "\n",
    "\\end{align*}"
   ],
   "cell_type": "markdown",
   "metadata": {}
  },
  {
   "cell_type": "code",
   "execution_count": 388,
   "metadata": {},
   "outputs": [],
   "source": [
    "# Initialize variables\n",
    "\n",
    "# Add active and passive constraints in RE-formalism\n",
    "active = \"\"\"\n",
    "D ABCD ABCD\n",
    "C BC ABC\n",
    "\"\"\"\n",
    "passive = \"\"\"\n",
    "A ABCD ABCD\n",
    "B BC BCD\n",
    "\"\"\"\n",
    "\n",
    "# Enable/disable debug mode\n",
    "debug = True"
   ]
  },
  {
   "cell_type": "code",
   "execution_count": 389,
   "metadata": {},
   "outputs": [
    {
     "output_type": "stream",
     "name": "stdout",
     "text": [
      "   combination  active  passive\n0    (A, A, A)   False     True\n1    (A, A, B)   False     True\n2    (A, A, C)   False     True\n3    (A, A, D)    True     True\n4    (A, B, B)   False     True\n5    (A, B, C)    True     True\n6    (A, B, D)    True     True\n7    (A, C, C)    True     True\n8    (A, C, D)    True     True\n9    (A, D, D)    True     True\n10   (B, B, B)   False     True\n11   (B, B, C)    True     True\n12   (B, B, D)    True     True\n13   (B, C, C)    True     True\n14   (B, C, D)    True     True\n15   (B, D, D)    True    False\n16   (C, C, C)    True    False\n17   (C, C, D)    True    False\n18   (C, D, D)    True    False\n19   (D, D, D)    True    False\n"
     ]
    }
   ],
   "source": [
    "actives = list(map(lambda x: x.split(), active.strip().split(\"\\n\")))\n",
    "passives = list(map(lambda x: x.split(), passive.strip().split(\"\\n\")))\n",
    "\n",
    "variables = sorted(list(set(list(\"\".join(\"\".join([active, passive]).split())))))\n",
    "\n",
    "combinations = pd.DataFrame({\"combination\": itertools.combinations_with_replacement(variables, len(passives[0]))})\n",
    "combinations[\"active\"] = False\n",
    "combinations[\"passive\"] = False\n",
    "\n",
    "for row in passives:\n",
    "    for c in map(lambda c: tuple(sorted(c)), itertools.product(*row)):\n",
    "        combinations.loc[combinations[\"combination\"]==c, \"passive\"] = True \n",
    "\n",
    "for row in actives:\n",
    "    for c in map(lambda c: tuple(sorted(c)), itertools.product(*row)):\n",
    "        combinations.loc[combinations[\"combination\"]==c, \"active\"] = True \n",
    "\n",
    "if debug: print(combinations)\n"
   ]
  },
  {
   "cell_type": "code",
   "execution_count": 390,
   "metadata": {},
   "outputs": [
    {
     "output_type": "stream",
     "name": "stdout",
     "text": [
      "Reductions:\nMAXIMIZE\n-1*alpha + 1*beta + 0\nSUBJECT TO\n0_not_Active: 3 A - alpha <= -0.001\n\n0_Passive: 3 A - beta <= 0\n\n1_not_Active: 2 A + B - alpha <= -0.001\n\n1_Passive: 2 A + B - beta <= 0\n\n2_not_Active: 2 A + C - alpha <= -0.001\n\n2_Passive: 2 A + C - beta <= 0\n\n3_Active: 2 A + D - alpha >= 0\n\n3_Passive: 2 A + D - beta <= 0\n\n4_not_Active: A + 2 B - alpha <= -0.001\n\n4_Passive: A + 2 B - beta <= 0\n\n5_Active: A + B + C - alpha >= 0\n\n5_Passive: A + B + C - beta <= 0\n\n6_Active: A + B + D - alpha >= 0\n\n6_Passive: A + B + D - beta <= 0\n\n7_Active: A + 2 C - alpha >= 0\n\n7_Passive: A + 2 C - beta <= 0\n\n8_Active: A + C + D - alpha >= 0\n\n8_Passive: A + C + D - beta <= 0\n\n9_Active: A + 2 D - alpha >= 0\n\n9_Passive: A + 2 D - beta <= 0\n\n10_not_Active: 3 B - alpha <= -0.001\n\n10_Passive: 3 B - beta <= 0\n\n11_Active: 2 B + C - alpha >= 0\n\n11_Passive: 2 B + C - beta <= 0\n\n12_Active: 2 B + D - alpha >= 0\n\n12_Passive: 2 B + D - beta <= 0\n\n13_Active: B + 2 C - alpha >= 0\n\n13_Passive: B + 2 C - beta <= 0\n\n14_Active: B + C + D - alpha >= 0\n\n14_Passive: B + C + D - beta <= 0\n\n15_Active: B + 2 D - alpha >= 0\n\n15_not_Passive: B + 2 D - beta >= 0.001\n\n16_Active: 3 C - alpha >= 0\n\n16_not_Passive: 3 C - beta >= 0.001\n\n17_Active: 2 C + D - alpha >= 0\n\n17_not_Passive: 2 C + D - beta >= 0.001\n\n18_Active: C + 2 D - alpha >= 0\n\n18_not_Passive: C + 2 D - beta >= 0.001\n\n19_Active: 3 D - alpha >= 0\n\n19_not_Passive: 3 D - beta >= 0.001\n\nVARIABLES\nA <= 1 Continuous\nB <= 1 Continuous\nC <= 1 Continuous\nD <= 1 Continuous\nalpha <= 10 Continuous\nbeta <= 10 Continuous\n\nLinear model found:\nA 0.0\nB 0.25\nC 0.75\nD 1.0\nalpha 0.751\nbeta 2.249\n"
     ]
    }
   ],
   "source": [
    "\n",
    "epsilon = 0.001\n",
    "\n",
    "model = LpProblem(name=\"Reductions\", sense=LpMaximize)\n",
    "\n",
    "alpha = LpVariable(name = \"alpha\", lowBound=0, upBound=10)\n",
    "\n",
    "beta = LpVariable(name = \"beta\", lowBound=0, upBound=10)\n",
    "\n",
    "pulp_variables = dict(zip(variables, [LpVariable(name = v, lowBound=0, upBound=1) for v in variables]))\n",
    "\n",
    "# Try different targets in order to get some readable solutions\n",
    "model += beta-alpha\n",
    "\n",
    "# Add initial constraints\n",
    "#for v in pulp_variables.values():\n",
    "#    model += (v>=0, f\"{v}, low\")\n",
    "#    model += (v<=1, f\"{v}, high\")\n",
    "\n",
    "# Add constraints\n",
    "\n",
    "for index, row in combinations.iterrows():\n",
    "    if row[\"active\"]:\n",
    "        model += (sum(pulp_variables[c] for c in row[\"combination\"])>=alpha, f\"{index}_Active\")\n",
    "    else:\n",
    "        model += (sum(pulp_variables[c] for c in row[\"combination\"])<= alpha-epsilon, f\"{index}_not_Active\")\n",
    "\n",
    "    if row[\"passive\"]:\n",
    "        model += (sum(pulp_variables[c] for c in row[\"combination\"])<=beta, f\"{index}_Passive\")\n",
    "    else:\n",
    "        model += (sum(pulp_variables[c] for c in row[\"combination\"])>=beta+epsilon, f\"{index}_not_Passive\")\n",
    "    \n",
    "\n",
    "    \n",
    "if debug: print(model)\n",
    "\n",
    "if model.solve() == 1:\n",
    "    print(\"Linear model found:\")\n",
    "\n",
    "    for var in model.variables():\n",
    "        print(var, var.value())\n",
    "\n",
    "else: print(\"No suitable model found\")"
   ]
  }
 ]
}