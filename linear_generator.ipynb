{
 "metadata": {
  "language_info": {
   "codemirror_mode": {
    "name": "ipython",
    "version": 3
   },
   "file_extension": ".py",
   "mimetype": "text/x-python",
   "name": "python",
   "nbconvert_exporter": "python",
   "pygments_lexer": "ipython3",
   "version": "3.8.5"
  },
  "orig_nbformat": 4,
  "kernelspec": {
   "name": "python3",
   "display_name": "Python 3.8.5 64-bit"
  },
  "interpreter": {
   "hash": "31f2aee4e71d21fbe5cf8b01ff0e069b9275f58929596ceb00d14d90e3e16cd6"
  }
 },
 "nbformat": 4,
 "nbformat_minor": 2,
 "cells": [
  {
   "cell_type": "code",
   "execution_count": 68,
   "metadata": {},
   "outputs": [],
   "source": [
    "import numpy as np \n",
    "import pandas as pd \n",
    "import portion as P\n",
    "import itertools\n",
    "from scipy.optimize import linprog\n",
    "from pulp import LpMaximize, LpProblem, LpStatus, lpSum, LpVariable \n",
    "from math import prod\n"
   ]
  },
  {
   "source": [
    "# Transforming LCL:s to linear problems\n",
    "\n",
    "Goal is to find $\\alpha, \\beta, a,b,c...$ such that if some $A, A, B$ is possible for active and/or passive nodes, then the corresponding $a+a+b$ will be $\\geq \\alpha$ and/or $\\leq \\beta $. Additionally it would be great to see if these values $a, b, c...$ could be expanded to intervals.\n",
    "\n",
    "## Notes:\n",
    "It seems to be difficult to find problems that can be expressed in this way, as the constraints for active and passive nodes are unbounded in the other direction. This means that when we have an absolute order for our labels, active (passive) nodes must always allow strengthening (weakening) of labels, as the sum will always be larger (smaller) and thus complying with the constraints. The current version tries to find ranges $\\alpha, \\beta \\subseteq [0, \\max(d,\\delta)]$, so that sum of edges incident to active (passive) nodes must be within the range $\\alpha \\; (\\beta)$."
   ],
   "cell_type": "markdown",
   "metadata": {}
  },
  {
   "source": [
    "## Example problem:\n",
    "\n",
    "```\n",
    "A AB AB\n",
    "\n",
    "B AB AB\n",
    "```\n",
    "can be interpreted as $\\alpha = 1, \\beta=2, A = \\left[ 0,\\frac{1}{3}\\right), B =  \\left(\\frac{2}{3}, 1\\right]$.\n",
    "\n",
    "What is the system of linear inequalities that could be used to derive this solution? Try:\n",
    "\n",
    "\\begin{align*}\n",
    "3a &\\leq \\beta \\\\\n",
    "2a+b &\\leq \\beta \\\\\n",
    "a+2b &\\leq \\beta \\\\\n",
    "3b &> \\beta \\\\\n",
    "\\\\\n",
    "3a &< \\alpha \\\\\n",
    "2a+b &\\geq \\alpha \\\\\n",
    "a+2b &\\geq \\alpha \\\\\n",
    "3b &\\geq \\alpha\n",
    "\n",
    "\\end{align*}"
   ],
   "cell_type": "markdown",
   "metadata": {}
  },
  {
   "cell_type": "code",
   "execution_count": 69,
   "metadata": {},
   "outputs": [],
   "source": [
    "# Initialize variables\n",
    "\n",
    "# Add active and passive constraints in RE-formalism\n",
    "active = \"\"\"\n",
    "D ABCD ABCD\n",
    "C BC ABC\n",
    "\"\"\"\n",
    "passive = \"\"\"\n",
    "A ABCD ABCD\n",
    "B BC BCD\n",
    "\"\"\"\n",
    "\n",
    "# Enable/disable debug mode\n",
    "debug = True"
   ]
  },
  {
   "cell_type": "code",
   "execution_count": 70,
   "metadata": {},
   "outputs": [
    {
     "output_type": "stream",
     "name": "stdout",
     "text": [
      "   combination  active  passive\n0    (A, A, A)   False     True\n1    (A, A, B)   False     True\n2    (A, A, C)   False     True\n3    (A, A, D)    True     True\n4    (A, B, B)   False     True\n5    (A, B, C)    True     True\n6    (A, B, D)    True     True\n7    (A, C, C)    True     True\n8    (A, C, D)    True     True\n9    (A, D, D)    True     True\n10   (B, B, B)   False     True\n11   (B, B, C)    True     True\n12   (B, B, D)    True     True\n13   (B, C, C)    True     True\n14   (B, C, D)    True     True\n15   (B, D, D)    True    False\n16   (C, C, C)    True    False\n17   (C, C, D)    True    False\n18   (C, D, D)    True    False\n19   (D, D, D)    True    False\n"
     ]
    }
   ],
   "source": [
    "# Create table of possible neighbourhoods and whether they are suitable for active/passive nodes\n",
    "\n",
    "actives = list(map(lambda x: x.split(), active.strip().split(\"\\n\")))\n",
    "passives = list(map(lambda x: x.split(), passive.strip().split(\"\\n\")))\n",
    "\n",
    "# max(d, delta)\n",
    "sum_max = max(len(actives[0]), len(passives[0]))\n",
    "\n",
    "variables = sorted(list(set(list(\"\".join(\"\".join([active, passive]).split())))))\n",
    "\n",
    "combinations = pd.DataFrame({\"combination\": itertools.combinations_with_replacement(variables, len(passives[0]))})\n",
    "combinations[\"active\"] = False\n",
    "combinations[\"passive\"] = False\n",
    "\n",
    "for row in passives:\n",
    "    for c in map(lambda c: tuple(sorted(c)), itertools.product(*row)):\n",
    "        combinations.loc[combinations[\"combination\"]==c, \"passive\"] = True \n",
    "\n",
    "for row in actives:\n",
    "    for c in map(lambda c: tuple(sorted(c)), itertools.product(*row)):\n",
    "        combinations.loc[combinations[\"combination\"]==c, \"active\"] = True \n",
    "\n",
    "if debug: print(combinations)\n"
   ]
  },
  {
   "cell_type": "code",
   "execution_count": 71,
   "metadata": {},
   "outputs": [
    {
     "output_type": "stream",
     "name": "stdout",
     "text": [
      "Reductions:\nMAXIMIZE\n-1*alpha_0 + 1*beta_0 + 0\nSUBJECT TO\n0_not_Active_high: 3 A - alpha_1 + 1000000 trick_0_a >= 0.001\n\n0_not_Active_low: 3 A - alpha_0 + 1000000 trick_0_a <= 999999.999\n\n0_Passive_low: 3 A - beta_0 >= 0\n\n0_Passive_high: 3 A - beta_1 <= 0\n\n1_not_Active_high: 2 A + B - alpha_1 + 1000000 trick_1_a >= 0.001\n\n1_not_Active_low: 2 A + B - alpha_0 + 1000000 trick_1_a <= 999999.999\n\n1_Passive_low: 2 A + B - beta_0 >= 0\n\n1_Passive_high: 2 A + B - beta_1 <= 0\n\n2_not_Active_high: 2 A + C - alpha_1 + 1000000 trick_2_a >= 0.001\n\n2_not_Active_low: 2 A + C - alpha_0 + 1000000 trick_2_a <= 999999.999\n\n2_Passive_low: 2 A + C - beta_0 >= 0\n\n2_Passive_high: 2 A + C - beta_1 <= 0\n\n3_Active_low: 2 A + D - alpha_0 >= 0\n\n3_Active_high: 2 A + D - alpha_1 <= 0\n\n3_Passive_low: 2 A + D - beta_0 >= 0\n\n3_Passive_high: 2 A + D - beta_1 <= 0\n\n4_not_Active_high: A + 2 B - alpha_1 + 1000000 trick_4_a >= 0.001\n\n4_not_Active_low: A + 2 B - alpha_0 + 1000000 trick_4_a <= 999999.999\n\n4_Passive_low: A + 2 B - beta_0 >= 0\n\n4_Passive_high: A + 2 B - beta_1 <= 0\n\n5_Active_low: A + B + C - alpha_0 >= 0\n\n5_Active_high: A + B + C - alpha_1 <= 0\n\n5_Passive_low: A + B + C - beta_0 >= 0\n\n5_Passive_high: A + B + C - beta_1 <= 0\n\n6_Active_low: A + B + D - alpha_0 >= 0\n\n6_Active_high: A + B + D - alpha_1 <= 0\n\n6_Passive_low: A + B + D - beta_0 >= 0\n\n6_Passive_high: A + B + D - beta_1 <= 0\n\n7_Active_low: A + 2 C - alpha_0 >= 0\n\n7_Active_high: A + 2 C - alpha_1 <= 0\n\n7_Passive_low: A + 2 C - beta_0 >= 0\n\n7_Passive_high: A + 2 C - beta_1 <= 0\n\n8_Active_low: A + C + D - alpha_0 >= 0\n\n8_Active_high: A + C + D - alpha_1 <= 0\n\n8_Passive_low: A + C + D - beta_0 >= 0\n\n8_Passive_high: A + C + D - beta_1 <= 0\n\n9_Active_low: A + 2 D - alpha_0 >= 0\n\n9_Active_high: A + 2 D - alpha_1 <= 0\n\n9_Passive_low: A + 2 D - beta_0 >= 0\n\n9_Passive_high: A + 2 D - beta_1 <= 0\n\n10_not_Active_high: 3 B - alpha_1 + 1000000 trick_10_a >= 0.001\n\n10_not_Active_low: 3 B - alpha_0 + 1000000 trick_10_a <= 999999.999\n\n10_Passive_low: 3 B - beta_0 >= 0\n\n10_Passive_high: 3 B - beta_1 <= 0\n\n11_Active_low: 2 B + C - alpha_0 >= 0\n\n11_Active_high: 2 B + C - alpha_1 <= 0\n\n11_Passive_low: 2 B + C - beta_0 >= 0\n\n11_Passive_high: 2 B + C - beta_1 <= 0\n\n12_Active_low: 2 B + D - alpha_0 >= 0\n\n12_Active_high: 2 B + D - alpha_1 <= 0\n\n12_Passive_low: 2 B + D - beta_0 >= 0\n\n12_Passive_high: 2 B + D - beta_1 <= 0\n\n13_Active_low: B + 2 C - alpha_0 >= 0\n\n13_Active_high: B + 2 C - alpha_1 <= 0\n\n13_Passive_low: B + 2 C - beta_0 >= 0\n\n13_Passive_high: B + 2 C - beta_1 <= 0\n\n14_Active_low: B + C + D - alpha_0 >= 0\n\n14_Active_high: B + C + D - alpha_1 <= 0\n\n14_Passive_low: B + C + D - beta_0 >= 0\n\n14_Passive_high: B + C + D - beta_1 <= 0\n\n15_Active_low: B + 2 D - alpha_0 >= 0\n\n15_Active_high: B + 2 D - alpha_1 <= 0\n\n15_not_Passive_high: B + 2 D - beta_1 + 1000000 trick_15_p >= 0.001\n\n15_not_Passive_low: B + 2 D - beta_0 + 1000000 trick_15_p <= 999999.999\n\n16_Active_low: 3 C - alpha_0 >= 0\n\n16_Active_high: 3 C - alpha_1 <= 0\n\n16_not_Passive_high: 3 C - beta_1 + 1000000 trick_16_p >= 0.001\n\n16_not_Passive_low: 3 C - beta_0 + 1000000 trick_16_p <= 999999.999\n\n17_Active_low: 2 C + D - alpha_0 >= 0\n\n17_Active_high: 2 C + D - alpha_1 <= 0\n\n17_not_Passive_high: 2 C + D - beta_1 + 1000000 trick_17_p >= 0.001\n\n17_not_Passive_low: 2 C + D - beta_0 + 1000000 trick_17_p <= 999999.999\n\n18_Active_low: C + 2 D - alpha_0 >= 0\n\n18_Active_high: C + 2 D - alpha_1 <= 0\n\n18_not_Passive_high: C + 2 D - beta_1 + 1000000 trick_18_p >= 0.001\n\n18_not_Passive_low: C + 2 D - beta_0 + 1000000 trick_18_p <= 999999.999\n\n19_Active_low: 3 D - alpha_0 >= 0\n\n19_Active_high: 3 D - alpha_1 <= 0\n\n19_not_Passive_high: 3 D - beta_1 + 1000000 trick_19_p >= 0.001\n\n19_not_Passive_low: 3 D - beta_0 + 1000000 trick_19_p <= 999999.999\n\nVARIABLES\nA <= 1 Continuous\nB <= 1 Continuous\nC <= 1 Continuous\nD <= 1 Continuous\nalpha_0 <= 3 Continuous\nalpha_1 <= 3 Continuous\nbeta_0 <= 3 Continuous\nbeta_1 <= 3 Continuous\n0 <= trick_0_a <= 1 Integer\n0 <= trick_10_a <= 1 Integer\n0 <= trick_15_p <= 1 Integer\n0 <= trick_16_p <= 1 Integer\n0 <= trick_17_p <= 1 Integer\n0 <= trick_18_p <= 1 Integer\n0 <= trick_19_p <= 1 Integer\n0 <= trick_1_a <= 1 Integer\n0 <= trick_2_a <= 1 Integer\n0 <= trick_4_a <= 1 Integer\n\nLinear model found:\nA 1.0\nB 0.999\nC 0.997\nD 0.996\nalpha_0 0.0\nalpha_1 2.996\nbeta_0 2.992\nbeta_1 3.0\ntrick_0_a 0.0\ntrick_10_a 0.0\ntrick_15_p 1.0\ntrick_16_p 1.0\ntrick_17_p 1.0\ntrick_18_p 1.0\ntrick_19_p 1.0\ntrick_1_a 0.0\ntrick_2_a 0.0\ntrick_4_a 0.0\n"
     ]
    }
   ],
   "source": [
    "\n",
    "epsilon = 0.001\n",
    "\n",
    "model = LpProblem(name=\"Reductions\", sense=LpMaximize)\n",
    "\n",
    "alpha_0 = LpVariable(name = \"alpha_0\", lowBound=0, upBound=sum_max)\n",
    "alpha_1 = LpVariable(name = \"alpha_1\", lowBound=0, upBound=sum_max)\n",
    "\n",
    "beta_0 = LpVariable(name = \"beta_0\", lowBound=0, upBound=sum_max)\n",
    "beta_1 = LpVariable(name = \"beta_1\", lowBound=0, upBound=sum_max)\n",
    "\n",
    "pulp_variables = dict(zip(variables, [LpVariable(name = v, lowBound=0, upBound=1) for v in variables]))\n",
    "\n",
    "# Try different targets in order to get more readable solutions\n",
    "model += beta_0-alpha_0\n",
    "\n",
    "# Add constraints\n",
    "trick_variables = []\n",
    "for index, row in combinations.iterrows():\n",
    "    if row[\"active\"]:\n",
    "        model += (sum(pulp_variables[c] for c in row[\"combination\"])>=alpha_0, f\"{index}_Active_low\")\n",
    "        model += (sum(pulp_variables[c] for c in row[\"combination\"])<=alpha_1, f\"{index}_Active_high\")\n",
    "    else:\n",
    "        # Sum not in [alpha_0, alpha_1] is the same as sum<alpha_0 OR sum>alpha_1\n",
    "        # Trick to implement OR in linear programming from https://download.aimms.com/aimms/download/manuals/AIMMS3OM_IntegerProgrammingTricks.pdf\n",
    "        trick_variables.append(LpVariable(name = f\"trick_{index}_a\", lowBound=0, upBound=1, cat='Binary'))\n",
    "        model += (sum(pulp_variables[c] for c in row[\"combination\"])>= alpha_1+epsilon - 1000000*trick_variables[-1], f\"{index}_not_Active_high\")\n",
    "        model += (sum(pulp_variables[c] for c in row[\"combination\"])<= alpha_0-epsilon + 1000000*(1-trick_variables[-1]), f\"{index}_not_Active_low\")\n",
    "\n",
    "    if row[\"passive\"]:\n",
    "        model += (sum(pulp_variables[c] for c in row[\"combination\"])>=beta_0, f\"{index}_Passive_low\")\n",
    "        model += (sum(pulp_variables[c] for c in row[\"combination\"])<=beta_1, f\"{index}_Passive_high\")\n",
    "    else:\n",
    "        trick_variables.append(LpVariable(name = f\"trick_{index}_p\", lowBound=0, upBound=1, cat='Binary'))\n",
    "        model += (sum(pulp_variables[c] for c in row[\"combination\"])>= beta_1+epsilon - 1000000*trick_variables[-1], f\"{index}_not_Passive_high\")\n",
    "        model += (sum(pulp_variables[c] for c in row[\"combination\"])<= beta_0-epsilon + 1000000*(1-trick_variables[-1]), f\"{index}_not_Passive_low\")\n",
    "    \n",
    "\n",
    "    \n",
    "if debug: print(model)\n",
    "\n",
    "if model.solve() == 1:\n",
    "    print(\"Linear model found:\")\n",
    "\n",
    "    for var in model.variables():\n",
    "        if \"trick\" not in var.name or debug:\n",
    "            print(var, var.value())\n",
    "\n",
    "else: print(\"No suitable model found\")"
   ]
  }
 ]
}