{
 "metadata": {
  "language_info": {
   "codemirror_mode": {
    "name": "ipython",
    "version": 3
   },
   "file_extension": ".py",
   "mimetype": "text/x-python",
   "name": "python",
   "nbconvert_exporter": "python",
   "pygments_lexer": "ipython3",
   "version": "3.8.5"
  },
  "orig_nbformat": 4,
  "kernelspec": {
   "name": "python3",
   "display_name": "Python 3.8.5 64-bit"
  },
  "interpreter": {
   "hash": "31f2aee4e71d21fbe5cf8b01ff0e069b9275f58929596ceb00d14d90e3e16cd6"
  }
 },
 "nbformat": 4,
 "nbformat_minor": 2,
 "cells": [
  {
   "cell_type": "code",
   "execution_count": 257,
   "metadata": {},
   "outputs": [],
   "source": [
    "import numpy as np \n",
    "import pandas as pd \n",
    "import portion as P\n",
    "import itertools\n",
    "from scipy.optimize import linprog\n",
    "from pulp import LpMaximize, LpProblem, LpStatus, lpSum, LpVariable \n",
    "from math import prod\n"
   ]
  },
  {
   "source": [
    "# Transforming LCL:s to linear problems\n",
    "\n",
    "Goal is to find $\\alpha, \\beta, a,b,c...$ such that if some $A, A, B$ is possible for active and/or passive nodes, then the corresponding $a+a+b$ will be $\\geq \\alpha$ and/or $\\leq \\beta $. Additionally it would be great to see if these values $a, b, c...$ could be expanded to intervals.\n",
    "\n",
    "## Notes:\n",
    "It seems to be difficult to find problems that can be expressed in this way, as the constraints for active and passive nodes are unbounded in the other direction. This means that when we have an absolute order for our labels, active (passive) nodes must always allow strengthening (weakening) of labels, as the sum will always be larger (smaller) and thus complying with the constraints. The current version tries to find ranges $\\alpha, \\beta \\subseteq [0, \\max(d,\\delta)]$, so that sum of edges incident to active (passive) nodes must be within the range $\\alpha \\; (\\beta)$."
   ],
   "cell_type": "markdown",
   "metadata": {}
  },
  {
   "source": [
    "## Example problem:\n",
    "\n",
    "```\n",
    "A AB AB\n",
    "\n",
    "B AB AB\n",
    "```\n",
    "can be interpreted as $\\alpha = 1, \\beta=2, A = \\left[ 0,\\frac{1}{3}\\right), B =  \\left(\\frac{2}{3}, 1\\right]$.\n",
    "\n",
    "What is the system of linear inequalities that could be used to derive this solution? Try:\n",
    "\n",
    "\\begin{align*}\n",
    "3a &\\leq \\beta \\\\\n",
    "2a+b &\\leq \\beta \\\\\n",
    "a+2b &\\leq \\beta \\\\\n",
    "3b &> \\beta \\\\\n",
    "\\\\\n",
    "3a &< \\alpha \\\\\n",
    "2a+b &\\geq \\alpha \\\\\n",
    "a+2b &\\geq \\alpha \\\\\n",
    "3b &\\geq \\alpha\n",
    "\n",
    "\\end{align*}"
   ],
   "cell_type": "markdown",
   "metadata": {}
  },
  {
   "cell_type": "code",
   "execution_count": 258,
   "metadata": {},
   "outputs": [],
   "source": [
    "# Initialize variables\n",
    "\n",
    "# Add active and passive constraints in RE-formalism\n",
    "active = \"\"\"\n",
    "A B B\n",
    "\n",
    "\"\"\"\n",
    "passive = \"\"\"\n",
    "AB B\n",
    "\"\"\"\n",
    "\n",
    "# Enable/disable debug mode\n",
    "debug = False\n",
    "\n"
   ]
  },
  {
   "cell_type": "code",
   "execution_count": 259,
   "metadata": {},
   "outputs": [],
   "source": [
    "# Create table of possible neighbourhoods and whether they are suitable for active/passive nodes\n",
    "\n",
    "actives = list(map(lambda x: x.split(), active.strip().split(\"\\n\")))\n",
    "passives = list(map(lambda x: x.split(), passive.strip().split(\"\\n\")))\n",
    "\n",
    "# max(d, delta)\n",
    "d = len(actives[0])\n",
    "delta = len(passives[0])\n",
    "sum_max = max(d, delta)\n",
    "\n",
    "variables = sorted(list(set(list(\"\".join(\"\".join([active, passive]).split())))))\n",
    "\n",
    "combinations = pd.DataFrame({\"combination\": itertools.combinations_with_replacement(variables, d)})\n",
    "if d!= delta:\n",
    "    combinations = combinations.append(pd.DataFrame({\"combination\": itertools.combinations_with_replacement(variables, delta)})).reset_index(drop=True)\n",
    "\n",
    "combinations[\"active\"] = False\n",
    "combinations[\"passive\"] = False\n",
    "\n",
    "for row in passives:\n",
    "    for c in map(lambda c: tuple(sorted(c)), itertools.product(*row)):\n",
    "        combinations.loc[combinations[\"combination\"]==c, \"passive\"] = True \n",
    "\n",
    "for row in actives:\n",
    "    for c in map(lambda c: tuple(sorted(c)), itertools.product(*row)):\n",
    "        combinations.loc[combinations[\"combination\"]==c, \"active\"] = True \n",
    "\n",
    "if debug: print(combinations)\n"
   ]
  },
  {
   "cell_type": "code",
   "execution_count": 260,
   "metadata": {},
   "outputs": [],
   "source": [
    "def create_md_row(solution):\n",
    "    s = \"PROBLEM NAME | $\"\n",
    "    s += \" \\\\\\\\ \".join([\" \\\\; \".join(row) for row in actives])\n",
    "    s += \"$ | $\"\n",
    "    s += \" \\\\\\\\ \".join([\" \\\\; \".join(row) for row in passives])\n",
    "    s += \"$ | $\"\n",
    "    alpha = (next(var.value() for var in model.variables() if \"alpha_0\" in var.name), next(var.value() for var in model.variables() if \"alpha_1\" in var.name))\n",
    "    s += f\"[{alpha[0]}, {alpha[1]}]\"\n",
    "    s += \"$ | $\"\n",
    "    beta = (next(var.value() for var in model.variables() if \"beta_0\" in var.name), next(var.value() for var in model.variables() if \"beta_1\" in var.name))\n",
    "    s += f\"[{beta[0]}, {beta[1]}]\"\n",
    "    s += \"$ | $\"\n",
    "    s += \", \".join(f\"{var.name}: {var.value()}\" for  var in solution if \"trick\" not in var.name and \"alpha\" not in var.name and \"beta\" not in var.name) \n",
    "    s += \"$\"\n",
    "    return s\n"
   ]
  },
  {
   "cell_type": "code",
   "execution_count": 261,
   "metadata": {},
   "outputs": [
    {
     "output_type": "stream",
     "name": "stdout",
     "text": [
      "Linear model found:\nA 1.0\nB 0.66666667\nalpha_0 2.001\nalpha_1 2.6656667\nbeta_0 0.0\nbeta_1 1.999\n\nAdd problem to markdown table:\nPROBLEM NAME | $A \\; B \\; B$ | $AB \\; B$ | $[2.001, 2.6656667]$ | $[0.0, 1.999]$ | $A: 1.0, B: 0.66666667$\n"
     ]
    }
   ],
   "source": [
    "\n",
    "epsilon = 0.001\n",
    "\n",
    "model = LpProblem(name=\"Reductions\", sense=LpMaximize)\n",
    "\n",
    "alpha_0 = LpVariable(name = \"alpha_0\", lowBound=0, upBound=sum_max)\n",
    "alpha_1 = LpVariable(name = \"alpha_1\", lowBound=0, upBound=sum_max)\n",
    "\n",
    "beta_0 = LpVariable(name = \"beta_0\", lowBound=0, upBound=sum_max)\n",
    "beta_1 = LpVariable(name = \"beta_1\", lowBound=0, upBound=sum_max)\n",
    "\n",
    "pulp_variables = dict(zip(variables, [LpVariable(name = v, lowBound=0, upBound=1) for v in variables]))\n",
    "\n",
    "# Try different targets in order to get more readable solutions\n",
    "model += beta_1 - beta_0 + alpha_1-alpha_0\n",
    "\n",
    "# Add constraints\n",
    "trick_variables = []\n",
    "for index, row in combinations.iterrows():\n",
    "    if row[\"active\"]:\n",
    "        model += (sum(pulp_variables[c] for c in row[\"combination\"])>=alpha_0, f\"{index}_Active_low\")\n",
    "        model += (sum(pulp_variables[c] for c in row[\"combination\"])<=alpha_1, f\"{index}_Active_high\")\n",
    "    else:\n",
    "        # Sum not in [alpha_0, alpha_1] is the same as sum<alpha_0 OR sum>alpha_1\n",
    "        # Trick to implement OR in linear programming from https://download.aimms.com/aimms/download/manuals/AIMMS3OM_IntegerProgrammingTricks.pdf\n",
    "        trick_variables.append(LpVariable(name = f\"trick_{index}_a\", lowBound=0, upBound=1, cat='Binary'))\n",
    "        model += (sum(pulp_variables[c] for c in row[\"combination\"])>= alpha_1+epsilon - 1000000*trick_variables[-1], f\"{index}_not_Active_high\")\n",
    "        model += (sum(pulp_variables[c] for c in row[\"combination\"])<= alpha_0-epsilon + 1000000*(1-trick_variables[-1]), f\"{index}_not_Active_low\")\n",
    "\n",
    "    if row[\"passive\"]:\n",
    "        model += (sum(pulp_variables[c] for c in row[\"combination\"])>=beta_0, f\"{index}_Passive_low\")\n",
    "        model += (sum(pulp_variables[c] for c in row[\"combination\"])<=beta_1, f\"{index}_Passive_high\")\n",
    "    else:\n",
    "        trick_variables.append(LpVariable(name = f\"trick_{index}_p\", lowBound=0, upBound=1, cat='Binary'))\n",
    "        model += (sum(pulp_variables[c] for c in row[\"combination\"])>= beta_1+epsilon - 1000000*trick_variables[-1], f\"{index}_not_Passive_high\")\n",
    "        model += (sum(pulp_variables[c] for c in row[\"combination\"])<= beta_0-epsilon + 1000000*(1-trick_variables[-1]), f\"{index}_not_Passive_low\")\n",
    "    \n",
    "\n",
    "    \n",
    "if debug: print(model)\n",
    "\n",
    "if model.solve() == 1:\n",
    "    print(\"Linear model found:\")\n",
    "\n",
    "    for var in model.variables():\n",
    "        if \"trick\" not in var.name or debug:\n",
    "            print(var, var.value())\n",
    "\n",
    "    print(\"\\nCopy problem to markdown table:\\n\", create_md_row(model.variables()), sep=\"\")\n",
    "\n",
    "else: print(\"No suitable model found\")"
   ]
  },
  {
   "cell_type": "code",
   "execution_count": null,
   "metadata": {},
   "outputs": [],
   "source": []
  }
 ]
}