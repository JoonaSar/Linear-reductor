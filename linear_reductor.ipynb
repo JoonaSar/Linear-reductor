{
 "metadata": {
  "language_info": {
   "codemirror_mode": {
    "name": "ipython",
    "version": 3
   },
   "file_extension": ".py",
   "mimetype": "text/x-python",
   "name": "python",
   "nbconvert_exporter": "python",
   "pygments_lexer": "ipython3",
   "version": "3.8.5"
  },
  "orig_nbformat": 2,
  "kernelspec": {
   "name": "python3",
   "display_name": "Python 3.8.5 64-bit"
  },
  "interpreter": {
   "hash": "916dbcbb3f70747c44a77c7bcd40155683ae19c65e1c03b4aa3499c5328201f1"
  }
 },
 "nbformat": 4,
 "nbformat_minor": 2,
 "cells": [
  {
   "cell_type": "code",
   "execution_count": 94,
   "metadata": {},
   "outputs": [],
   "source": [
    "import numpy as np \n",
    "import pandas as pd\n",
    "import portion as P \n",
    "import string\n",
    "import itertools\n",
    "from scipy.optimize import linprog\n",
    "from pulp import LpMaximize, LpProblem, LpStatus, lpSum, LpVariable\n"
   ]
  },
  {
   "source": [
    "# Finding reductions for linear problems\n",
    "Consider the following locally verifiable problem in (3,3)-biregular trees:\n",
    "- $\\Sigma \\subseteq [0,1]$\n",
    "- Task is to label the edges\n",
    "- Sum of edge labels incident to\n",
    "    - white nodes is $\\geq \\alpha$\n",
    "    - black nodes is $\\leq \\beta$\n",
    "\n",
    "This program should find out if any label in some interval $(A_0, A_1)$ can be replaced by a single label.\n",
    "\n",
    "The basic idea is to check every combination of these intervals and which of these combinations could be white and/or black neighbourhoods. Using these combinations we can form a set of linear inequalities that the simultanious reductions must satisfy. Lastly we use linear programming to search for reductions.\n"
   ],
   "cell_type": "markdown",
   "metadata": {}
  },
  {
   "cell_type": "code",
   "execution_count": 95,
   "metadata": {},
   "outputs": [],
   "source": [
    "# Define some variables\n",
    "\n",
    "# Degrees of black and white nodes\n",
    "d = 3\n",
    "delta = 3\n",
    "\n",
    "# The treshold for black and white sums\n",
    "beta = 2\n",
    "alpha = 1\n",
    "\n",
    "# The set of possible labels\n",
    "Sigma_string = \"[0, 1/3) U (2/3, 4/5) U (4/5, 1]\"\n"
   ]
  },
  {
   "cell_type": "code",
   "execution_count": 96,
   "metadata": {},
   "outputs": [],
   "source": [
    "# Define parser for Sigma\n",
    "def convert(s):\n",
    "    try:\n",
    "        return float(s)\n",
    "    except ValueError:\n",
    "        num, denom = s.split('/')\n",
    "        return float(num) / float(denom)\n",
    "\n",
    "params = {\n",
    "    'disj': ' U '\n",
    "}\n",
    "\n",
    "Sigma = P.from_string(Sigma_string, conv=convert, **params)"
   ]
  },
  {
   "cell_type": "code",
   "execution_count": 97,
   "metadata": {},
   "outputs": [
    {
     "output_type": "execute_result",
     "data": {
      "text/plain": [
       "     interval reduction\n",
       "A  [0.0,0.25)      None\n",
       "B  (0.75,0.8)      None\n",
       "C   (0.8,1.0]      None"
      ],
      "text/html": "<div>\n<style scoped>\n    .dataframe tbody tr th:only-of-type {\n        vertical-align: middle;\n    }\n\n    .dataframe tbody tr th {\n        vertical-align: top;\n    }\n\n    .dataframe thead th {\n        text-align: right;\n    }\n</style>\n<table border=\"1\" class=\"dataframe\">\n  <thead>\n    <tr style=\"text-align: right;\">\n      <th></th>\n      <th>interval</th>\n      <th>reduction</th>\n    </tr>\n  </thead>\n  <tbody>\n    <tr>\n      <th>A</th>\n      <td>[0.0,0.25)</td>\n      <td>None</td>\n    </tr>\n    <tr>\n      <th>B</th>\n      <td>(0.75,0.8)</td>\n      <td>None</td>\n    </tr>\n    <tr>\n      <th>C</th>\n      <td>(0.8,1.0]</td>\n      <td>None</td>\n    </tr>\n  </tbody>\n</table>\n</div>"
     },
     "metadata": {},
     "execution_count": 97
    }
   ],
   "source": [
    "interval_count = len([x for x in Sigma])\n",
    "intervals = pd.DataFrame({\"interval\": [x for x in Sigma], \"reduction\": [None for x in Sigma]}, index=list(string.ascii_uppercase[0:interval_count]))\n",
    "intervals"
   ]
  },
  {
   "cell_type": "code",
   "execution_count": 98,
   "metadata": {},
   "outputs": [],
   "source": [
    "def sum_intervals(interval_list):\n",
    "    min = 0\n",
    "    max = 0\n",
    "    min_in = True\n",
    "    max_in = True\n",
    "    for interval in interval_list:\n",
    "        min_in = min_in and interval.left == P.CLOSED\n",
    "        max_in = max_in and interval.right == P.CLOSED\n",
    "        min += interval.lower\n",
    "        max += interval.upper\n",
    "    if min_in and max_in:\n",
    "        return P.closed(min, max)\n",
    "    if min_in and not max_in:\n",
    "        return P.closedopen(min, max)\n",
    "    if not min_in and max_in:\n",
    "        return P.openclosed(min, max)\n",
    "    return P.open(min, max)\n"
   ]
  },
  {
   "cell_type": "code",
   "execution_count": 99,
   "metadata": {},
   "outputs": [],
   "source": [
    "# If white and black nodes have same amount of neighbours, some neighborhoods can be suitable for both\r\n",
    "if d==delta:\r\n",
    "    combinations = list(itertools.combinations_with_replacement(intervals.index, d))\r\n",
    "    neighbourhoods = pd.DataFrame({\"combination\": combinations})\r\n",
    "    neighbourhoods[\"W\"] = None \r\n",
    "    neighbourhoods[\"B\"] = None\r\n",
    "\r\n",
    "else:\r\n",
    "    combinations = list(itertools.combinations_with_replacement(intervals.index, delta))\r\n",
    "    combinations.extend(list(itertools.combinations_with_replacement(intervals.index, d)))\r\n",
    "    neighbourhoods = pd.DataFrame({\"combination\": combinations})\r\n",
    "    neighbourhoods[\"OK\"] = None\r\n",
    "    \r\n"
   ]
  },
  {
   "cell_type": "code",
   "execution_count": 100,
   "metadata": {},
   "outputs": [
    {
     "output_type": "stream",
     "name": "stdout",
     "text": [
      "\n\n\n\n\n\n"
     ]
    }
   ],
   "source": [
    "white_range = P.open(alpha, P.inf)\n",
    "black_range = P.open(-P.inf, beta)\n",
    "\n",
    "for index, row in neighbourhoods.iterrows():\n",
    "    range = sum_intervals(list(map(lambda x: intervals.loc[x, \"interval\"], row[\"combination\"])))\n",
    "    \n",
    "    # See if we have to check both white and black ranges or only one\n",
    "    if d==delta:\n",
    "        neighbourhoods.at[index, \"W\"] = not (white_range & range).empty\n",
    "        neighbourhoods.at[index, \"B\"] = not (black_range & range).empty\n",
    "        \n",
    "    else: \n",
    "        if len(row[\"combination\"]) == d:\n",
    "            print()\n",
    "            neighbourhoods.at[index, \"OK\"] = not (black_range & range).empty\n",
    "            \n",
    "        else: neighbourhoods.at[index, \"OK\"] = not (white_range & range).empty\n",
    "        \n",
    "    "
   ]
  },
  {
   "cell_type": "code",
   "execution_count": 101,
   "metadata": {},
   "outputs": [
    {
     "output_type": "execute_result",
     "data": {
      "text/plain": [
       "   combination     OK\n",
       "0    (A, A, A)  False\n",
       "1    (A, A, B)   True\n",
       "2    (A, A, C)   True\n",
       "3    (A, B, B)   True\n",
       "4    (A, B, C)   True\n",
       "5    (A, C, C)   True\n",
       "6    (B, B, B)   True\n",
       "7    (B, B, C)   True\n",
       "8    (B, C, C)   True\n",
       "9    (C, C, C)   True\n",
       "10      (A, A)   True\n",
       "11      (A, B)   True\n",
       "12      (A, C)   True\n",
       "13      (B, B)  False\n",
       "14      (B, C)  False\n",
       "15      (C, C)  False"
      ],
      "text/html": "<div>\n<style scoped>\n    .dataframe tbody tr th:only-of-type {\n        vertical-align: middle;\n    }\n\n    .dataframe tbody tr th {\n        vertical-align: top;\n    }\n\n    .dataframe thead th {\n        text-align: right;\n    }\n</style>\n<table border=\"1\" class=\"dataframe\">\n  <thead>\n    <tr style=\"text-align: right;\">\n      <th></th>\n      <th>combination</th>\n      <th>OK</th>\n    </tr>\n  </thead>\n  <tbody>\n    <tr>\n      <th>0</th>\n      <td>(A, A, A)</td>\n      <td>False</td>\n    </tr>\n    <tr>\n      <th>1</th>\n      <td>(A, A, B)</td>\n      <td>True</td>\n    </tr>\n    <tr>\n      <th>2</th>\n      <td>(A, A, C)</td>\n      <td>True</td>\n    </tr>\n    <tr>\n      <th>3</th>\n      <td>(A, B, B)</td>\n      <td>True</td>\n    </tr>\n    <tr>\n      <th>4</th>\n      <td>(A, B, C)</td>\n      <td>True</td>\n    </tr>\n    <tr>\n      <th>5</th>\n      <td>(A, C, C)</td>\n      <td>True</td>\n    </tr>\n    <tr>\n      <th>6</th>\n      <td>(B, B, B)</td>\n      <td>True</td>\n    </tr>\n    <tr>\n      <th>7</th>\n      <td>(B, B, C)</td>\n      <td>True</td>\n    </tr>\n    <tr>\n      <th>8</th>\n      <td>(B, C, C)</td>\n      <td>True</td>\n    </tr>\n    <tr>\n      <th>9</th>\n      <td>(C, C, C)</td>\n      <td>True</td>\n    </tr>\n    <tr>\n      <th>10</th>\n      <td>(A, A)</td>\n      <td>True</td>\n    </tr>\n    <tr>\n      <th>11</th>\n      <td>(A, B)</td>\n      <td>True</td>\n    </tr>\n    <tr>\n      <th>12</th>\n      <td>(A, C)</td>\n      <td>True</td>\n    </tr>\n    <tr>\n      <th>13</th>\n      <td>(B, B)</td>\n      <td>False</td>\n    </tr>\n    <tr>\n      <th>14</th>\n      <td>(B, C)</td>\n      <td>False</td>\n    </tr>\n    <tr>\n      <th>15</th>\n      <td>(C, C)</td>\n      <td>False</td>\n    </tr>\n  </tbody>\n</table>\n</div>"
     },
     "metadata": {},
     "execution_count": 101
    }
   ],
   "source": [
    "neighbourhoods"
   ]
  },
  {
   "cell_type": "code",
   "execution_count": 102,
   "metadata": {},
   "outputs": [],
   "source": [
    "def to_retor(neighbourhoods):\n",
    "    if d == delta:\n",
    "        white_retor = \"\"\n",
    "        black_retor = \"\"\n",
    "        for index, row in neighbourhoods.iterrows():\n",
    "            if row[\"W\"]:\n",
    "                white_retor += \" \".join(row[\"combination\"])\n",
    "                white_retor += \"\\n\"\n",
    "            if row[\"B\"]:\n",
    "                black_retor += \" \".join(row[\"combination\"])\n",
    "                black_retor += \"\\n\"\n",
    "\n",
    "    else:\n",
    "        white_retor = \"\"\n",
    "        black_retor = \"\"\n",
    "        for index, row in neighbourhoods.iterrows():\n",
    "            if len(row[\"combination\"]) == d and row[\"OK\"]:\n",
    "                black_retor += \" \".join(row[\"combination\"])\n",
    "                black_retor += \"\\n\"\n",
    "            elif row[\"OK\"]:\n",
    "                white_retor += \" \".join(row[\"combination\"])\n",
    "                white_retor += \"\\n\"\n",
    "    \n",
    "    return (black_retor, white_retor)"
   ]
  },
  {
   "cell_type": "code",
   "execution_count": 103,
   "metadata": {},
   "outputs": [],
   "source": [
    "def find_reductions(neighbourhoods):\n",
    "    model = LpProblem(name=\"Reductions\", sense=LpMaximize)\n",
    "\n",
    "    # Linear ineq solvers can't handle true inequalities, so maybe it's best to just use epsilon differences?\n",
    "    epsilon = 0.01\n",
    "\n",
    "    variables = dict(zip(list(string.ascii_lowercase[0:interval_count]), \n",
    "                    [LpVariable(name = symbol, lowBound=0, upBound=1) for symbol in list(string.ascii_lowercase[0:interval_count])]))\n",
    "    \n",
    "    # Add the constraints of the original sets\n",
    "    for index, row in intervals.iterrows():\n",
    "        variable = variables[index.lower()]\n",
    "        interval = row[\"interval\"]\n",
    "        if interval.left == P.CLOSED:\n",
    "            model += (variable>=interval.lower, f\"Init_{index}_lower\")\n",
    "        else:\n",
    "            model += (variable>=interval.lower + epsilon, f\"Init_{index}_lower\")\n",
    "            \n",
    "        if interval.right == P.CLOSED:\n",
    "            model += (variable<=interval.upper, f\"Init_{index}_upper\")\n",
    "        else:\n",
    "            model += (variable<=interval.upper - epsilon, f\"Init_{index}_upper\")\n",
    "\n",
    "\n",
    "    # Add the constraints imposed by summation of the original sets\n",
    "    if d == delta:\n",
    "        for index, row in neighbourhoods.iterrows():\n",
    "            if (row[\"W\"]):\n",
    "                model += (sum(map(lambda x: variables[x.lower()], row[\"combination\"])) >= alpha, f\"Constraint_{index}_W\")\n",
    "            if (row[\"B\"]):\n",
    "                model += (sum(map(lambda x: variables[x.lower()], row[\"combination\"])) <= beta, f\"Constraint_{index}_B\")\n",
    "\n",
    "    else:  \n",
    "        for index, row in neighbourhoods.iterrows():\n",
    "            if (len(row[\"combination\"])==d) and row[\"OK\"]:\n",
    "                model += (sum(map(lambda x: variables[x.lower()], row[\"combination\"])) <= beta, f\"Constraint_{index}_B\")\n",
    "            elif (row[\"OK\"]):\n",
    "                model += (sum(map(lambda x: variables[x.lower()], row[\"combination\"])) >= alpha, f\"Constraint_{index}_W\")\n",
    "\n",
    "    if model.solve() == -1:\n",
    "        print(\"No reductions found.\")\n",
    "    \n",
    "    else:\n",
    "        print(\"Reductions found: \")\n",
    "        for var in model.variables()[1:]:\n",
    "            intervals.loc[var.name.upper(), \"reduction\"] = var.value()\n",
    "        \n",
    "        print(intervals)\n",
    "        print(\"\\nRound eliminator syntax:\")\n",
    "        black, white = to_retor(neighbourhoods)\n",
    "        \n",
    "        print(\"\\n\"+black)\n",
    "        print(\"\\n\"+white)\n"
   ]
  },
  {
   "cell_type": "code",
   "execution_count": 104,
   "metadata": {},
   "outputs": [
    {
     "output_type": "stream",
     "name": "stdout",
     "text": [
      "No 0-round solutions found.\n",
      "Reductions found: \n",
      "     interval reduction\n",
      "A  [0.0,0.25)     0.105\n",
      "B  (0.75,0.8)      0.79\n",
      "C   (0.8,1.0]      0.81\n",
      "\n",
      "Round eliminator syntax:\n",
      "\n",
      "A A\n",
      "A B\n",
      "A C\n",
      "\n",
      "\n",
      "A A B\n",
      "A A C\n",
      "A B B\n",
      "A B C\n",
      "A C C\n",
      "B B B\n",
      "B B C\n",
      "B C C\n",
      "C C C\n",
      "\n"
     ]
    }
   ],
   "source": [
    "# First check for 0-round solution\n",
    "\n",
    "easy_solution_interval = P.closed(alpha/delta, beta/d)\n",
    "easy_solutions = (easy_solution_interval & Sigma)\n",
    "if not easy_solutions.empty:\n",
    "    print(\"0-round solution found.\")\n",
    "    print(f\"Choose any single value from {P.to_string(easy_solutions, **params)}.\")\n",
    "\n",
    "# Try to find some reductions\n",
    "else:\n",
    "    print(\"No 0-round solutions found.\")\n",
    "    find_reductions(neighbourhoods)\n",
    "    \n",
    "    \n"
   ]
  },
  {
   "cell_type": "code",
   "execution_count": null,
   "metadata": {},
   "outputs": [],
   "source": []
  }
 ]
}