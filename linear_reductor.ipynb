{
 "metadata": {
  "language_info": {
   "codemirror_mode": {
    "name": "ipython",
    "version": 3
   },
   "file_extension": ".py",
   "mimetype": "text/x-python",
   "name": "python",
   "nbconvert_exporter": "python",
   "pygments_lexer": "ipython3",
   "version": "3.8.5"
  },
  "orig_nbformat": 2,
  "kernelspec": {
   "name": "python3",
   "display_name": "Python 3.8.5 64-bit"
  },
  "interpreter": {
   "hash": "916dbcbb3f70747c44a77c7bcd40155683ae19c65e1c03b4aa3499c5328201f1"
  }
 },
 "nbformat": 4,
 "nbformat_minor": 2,
 "cells": [
  {
   "cell_type": "code",
   "execution_count": 57,
   "metadata": {},
   "outputs": [],
   "source": [
    "import numpy as np \n",
    "import pandas as pd\n",
    "import portion as P \n",
    "import string\n",
    "import itertools\n",
    "from scipy.optimize import linprog\n",
    "from pulp import LpMaximize, LpProblem, LpStatus, lpSum, LpVariable\n"
   ]
  },
  {
   "source": [
    "# Finding reductions for linear problems\n",
    "Consider the following locally verifiable problem in (d, $\\delta$)-biregular trees:\n",
    "- $\\Sigma \\subseteq [0,1]$\n",
    "- Task is to label the edges\n",
    "- Sum of edge labels incident to\n",
    "    - white nodes is $\\geq \\alpha$\n",
    "    - black nodes is $\\leq \\beta$\n",
    "- Additionally leaf nodes accept all possible neighbourhoods.\n",
    "\n",
    "This program tries to find a value $\\{a, b, ...\\}$ in each maximal separate continuous interval $A, B, C, ... \\subseteq \\Sigma = [0, 1]$, so that any valid labeling can be transformed to another valid labeling by **simultaneously** replacing all labels with the value corresponding to their interval. This reduces the set of labels down to $\\Sigma = \\{a, b, ...\\}$.\n",
    "\n",
    "\n",
    "\n",
    "\n",
    "\n",
    "The basic idea is to check every combination of these intervals and note which of these combinations could be neighbourhoods of white and/or black nodes. Using these combinations we can form a system of linear inequalities that the simultanious reductions must satisfy. Lastly we use linear programming to search for a set of values.\n"
   ],
   "cell_type": "markdown",
   "metadata": {}
  },
  {
   "source": [
    "## Example 1:\n",
    "\n",
    "Locally verifiable problem $\\Pi$ in (3,3)-biregular trees:\n",
    "- $\\Sigma = [0, 1/3) \\cup (2/3, 1]$\n",
    "- $\\alpha = 1$\n",
    "- $\\beta = 2$\n",
    "\n",
    "Clearly there are no 0-round solutions, as $[1/3, 2/3] \\cap \\Sigma = \\emptyset$. Let $A= [0, 1/3)$ and $B= (2/3, 1]$. The possible combinations for a neighbourhood are:\n",
    "\n",
    "- A, A, A \n",
    "- A, A, B \n",
    "- A, B, B \n",
    "- B, B, B\n",
    "\n",
    "We can also calculate the range of the sum of any given neighbourhood:\n",
    "\n",
    "- $A, A, A = \\left[0, 1 \\right)$\n",
    "- $A, A, B = \\left(\\frac{2}{3}, \\frac{5}{3}\\right)$\n",
    "- $A, B, B = \\left(\\frac{4}{3}, \\frac{7}{3}\\right)$\n",
    "- $B, B, B = \\left(2, 3\\right]$\n",
    "\n",
    "This table shows us, for example, that that the neighbourhood $A, A, B$ can be a neighbourhood of a black or a white node. This however doesn't yet mean that **any** three values from the corresponding ranges can surround both white and black nodes. It just means that if we were to collapse these ranges into single values, that neighbourhood would need to be suitable for both white and black nodes. Using this idea we can create a system of inequalities that any suitable reduction must satisfy.\n",
    "\n",
    "\\begin{align*}\n",
    "\n",
    "a \\in A \\iff 0\\leq a &< \\frac{1}{3} \\\\\n",
    "b \\in B \\iff \\frac{2}{3} < b &\\leq 1 \\\\\n",
    "3a &\\leq 2 \\\\\n",
    "1 \\leq 2a+b  &\\leq 2 \\\\\n",
    "1 \\leq a+2b &\\leq 2 \\\\\n",
    "3b &\\geq 1\n",
    "\\end{align*}\n",
    "\n",
    "Now any pair $(a,b)$ satisfying these inequalities will be a valid reducion. Using linear programming, we can find for example the solution $(0.161667, 0.676667)$. Now the problem at least as easy as the LCL problem (in RE syntax):\n",
    "```\n",
    "A A A\n",
    "A A B\n",
    "A B B\n",
    "\n",
    "\n",
    "A A B\n",
    "A B B\n",
    "B B B\n",
    "```\n",
    "\n",
    "Note that these reductions **cannot** be found separately: if we choose any value for $a\\in A$, we can find values $b_1, b_2, b_3 \\in B$ so that a white node has the neighbourhood $a+a+b_1<1$ or a black node has the neighbourhood $a+b_2+b_3>2$, which breaks our labeling. Same logic applies to fixing $b$ first."
   ],
   "cell_type": "markdown",
   "metadata": {}
  },
  {
   "cell_type": "code",
   "execution_count": 58,
   "metadata": {},
   "outputs": [],
   "source": [
    "# Define some variables\n",
    "\n",
    "# Degrees of black and white nodes\n",
    "d = 3\n",
    "delta = 3\n",
    "\n",
    "# The treshold for black and white sums\n",
    "beta = 1\n",
    "alpha = 1\n",
    "\n",
    "# The set of possible labels\n",
    "Sigma_string = \"[0, 1/3) U (2/3, 1]\"\n"
   ]
  },
  {
   "cell_type": "code",
   "execution_count": 59,
   "metadata": {},
   "outputs": [],
   "source": [
    "# Define parser for Sigma\n",
    "def convert(s):\n",
    "    try:\n",
    "        return float(s)\n",
    "    except ValueError:\n",
    "        num, denom = s.split('/')\n",
    "        return float(num) / float(denom)\n",
    "\n",
    "params = {\n",
    "    'disj': ' U '\n",
    "}\n",
    "\n",
    "Sigma = P.from_string(Sigma_string, conv=convert, **params)"
   ]
  },
  {
   "cell_type": "code",
   "execution_count": 60,
   "metadata": {},
   "outputs": [
    {
     "output_type": "execute_result",
     "data": {
      "text/plain": [
       "                   interval reduction\n",
       "A  [0.0,0.3333333333333333]      None\n",
       "B  (0.6666666666666666,1.0]      None"
      ],
      "text/html": "<div>\n<style scoped>\n    .dataframe tbody tr th:only-of-type {\n        vertical-align: middle;\n    }\n\n    .dataframe tbody tr th {\n        vertical-align: top;\n    }\n\n    .dataframe thead th {\n        text-align: right;\n    }\n</style>\n<table border=\"1\" class=\"dataframe\">\n  <thead>\n    <tr style=\"text-align: right;\">\n      <th></th>\n      <th>interval</th>\n      <th>reduction</th>\n    </tr>\n  </thead>\n  <tbody>\n    <tr>\n      <th>A</th>\n      <td>[0.0,0.3333333333333333]</td>\n      <td>None</td>\n    </tr>\n    <tr>\n      <th>B</th>\n      <td>(0.6666666666666666,1.0]</td>\n      <td>None</td>\n    </tr>\n  </tbody>\n</table>\n</div>"
     },
     "metadata": {},
     "execution_count": 60
    }
   ],
   "source": [
    "interval_count = len([x for x in Sigma])\n",
    "intervals = pd.DataFrame({\"interval\": [x for x in Sigma], \"reduction\": [None for x in Sigma]}, index=list(string.ascii_uppercase[0:interval_count]))\n",
    "intervals"
   ]
  },
  {
   "cell_type": "code",
   "execution_count": 61,
   "metadata": {},
   "outputs": [],
   "source": [
    "def sum_intervals(interval_list):\n",
    "    min = 0\n",
    "    max = 0\n",
    "    min_in = True\n",
    "    max_in = True\n",
    "    for interval in interval_list:\n",
    "        min_in = min_in and interval.left == P.CLOSED\n",
    "        max_in = max_in and interval.right == P.CLOSED\n",
    "        min += interval.lower\n",
    "        max += interval.upper\n",
    "    if min_in and max_in:\n",
    "        return P.closed(min, max)\n",
    "    if min_in and not max_in:\n",
    "        return P.closedopen(min, max)\n",
    "    if not min_in and max_in:\n",
    "        return P.openclosed(min, max)\n",
    "    return P.open(min, max)\n"
   ]
  },
  {
   "cell_type": "code",
   "execution_count": 62,
   "metadata": {},
   "outputs": [],
   "source": [
    "# If white and black nodes have same amount of neighbours, some neighborhoods can be suitable for both\r\n",
    "if d==delta:\r\n",
    "    combinations = list(itertools.combinations_with_replacement(intervals.index, d))\r\n",
    "    neighbourhoods = pd.DataFrame({\"combination\": combinations})\r\n",
    "    neighbourhoods[\"W\"] = None \r\n",
    "    neighbourhoods[\"B\"] = None\r\n",
    "\r\n",
    "else:\r\n",
    "    combinations = list(itertools.combinations_with_replacement(intervals.index, delta))\r\n",
    "    combinations.extend(list(itertools.combinations_with_replacement(intervals.index, d)))\r\n",
    "    neighbourhoods = pd.DataFrame({\"combination\": combinations})\r\n",
    "    neighbourhoods[\"OK\"] = None\r\n",
    "    \r\n"
   ]
  },
  {
   "cell_type": "code",
   "execution_count": 63,
   "metadata": {},
   "outputs": [
    {
     "output_type": "stream",
     "name": "stdout",
     "text": [
      "[0.0,1.0]\n(0.6666666666666666,1.6666666666666665]\n(1.3333333333333333,2.333333333333333]\n(2.0,3.0]\n"
     ]
    }
   ],
   "source": [
    "white_range = P.closedopen(alpha, P.inf)\n",
    "black_range = P.openclosed(-P.inf, beta)\n",
    "\n",
    "for index, row in neighbourhoods.iterrows():\n",
    "    range = sum_intervals(list(map(lambda x: intervals.loc[x, \"interval\"], row[\"combination\"])))\n",
    "    print(range)\n",
    "    \n",
    "    # See if we have to check both white and black ranges or only one\n",
    "    if d==delta:\n",
    "        neighbourhoods.at[index, \"W\"] = not (white_range & range).empty\n",
    "        neighbourhoods.at[index, \"B\"] = not (black_range & range).empty\n",
    "        \n",
    "    else: \n",
    "        if len(row[\"combination\"]) == d:\n",
    "            print()\n",
    "            neighbourhoods.at[index, \"OK\"] = not (black_range & range).empty\n",
    "            \n",
    "        else: neighbourhoods.at[index, \"OK\"] = not (white_range & range).empty\n",
    "        \n",
    "    "
   ]
  },
  {
   "cell_type": "code",
   "execution_count": 64,
   "metadata": {},
   "outputs": [
    {
     "output_type": "execute_result",
     "data": {
      "text/plain": [
       "  combination     W      B\n",
       "0   (A, A, A)  True   True\n",
       "1   (A, A, B)  True   True\n",
       "2   (A, B, B)  True  False\n",
       "3   (B, B, B)  True  False"
      ],
      "text/html": "<div>\n<style scoped>\n    .dataframe tbody tr th:only-of-type {\n        vertical-align: middle;\n    }\n\n    .dataframe tbody tr th {\n        vertical-align: top;\n    }\n\n    .dataframe thead th {\n        text-align: right;\n    }\n</style>\n<table border=\"1\" class=\"dataframe\">\n  <thead>\n    <tr style=\"text-align: right;\">\n      <th></th>\n      <th>combination</th>\n      <th>W</th>\n      <th>B</th>\n    </tr>\n  </thead>\n  <tbody>\n    <tr>\n      <th>0</th>\n      <td>(A, A, A)</td>\n      <td>True</td>\n      <td>True</td>\n    </tr>\n    <tr>\n      <th>1</th>\n      <td>(A, A, B)</td>\n      <td>True</td>\n      <td>True</td>\n    </tr>\n    <tr>\n      <th>2</th>\n      <td>(A, B, B)</td>\n      <td>True</td>\n      <td>False</td>\n    </tr>\n    <tr>\n      <th>3</th>\n      <td>(B, B, B)</td>\n      <td>True</td>\n      <td>False</td>\n    </tr>\n  </tbody>\n</table>\n</div>"
     },
     "metadata": {},
     "execution_count": 64
    }
   ],
   "source": [
    "neighbourhoods"
   ]
  },
  {
   "cell_type": "code",
   "execution_count": 65,
   "metadata": {},
   "outputs": [],
   "source": [
    "def print_retor(neighbourhoods):\n",
    "    if d == delta:\n",
    "        white_retor = \"\"\n",
    "        black_retor = \"\"\n",
    "        for index, row in neighbourhoods.iterrows():\n",
    "            if row[\"W\"]:\n",
    "                white_retor += \" \".join(row[\"combination\"])\n",
    "                white_retor += \"\\n\"\n",
    "            if row[\"B\"]:\n",
    "                black_retor += \" \".join(row[\"combination\"])\n",
    "                black_retor += \"\\n\"\n",
    "\n",
    "    else:\n",
    "        white_retor = \"\"\n",
    "        black_retor = \"\"\n",
    "        for index, row in neighbourhoods.iterrows():\n",
    "            if len(row[\"combination\"]) == d and row[\"OK\"]:\n",
    "                black_retor += \" \".join(row[\"combination\"])\n",
    "                black_retor += \"\\n\"\n",
    "            elif row[\"OK\"]:\n",
    "                white_retor += \" \".join(row[\"combination\"])\n",
    "                white_retor += \"\\n\"\n",
    "    \n",
    "    \n",
    "    print(\"\\nRound eliminator syntax:\")\n",
    "    print(\"\\n\"+black_retor)\n",
    "    print(\"\\n\"+white_retor)"
   ]
  },
  {
   "cell_type": "code",
   "execution_count": 66,
   "metadata": {},
   "outputs": [],
   "source": [
    "def find_reductions(neighbourhoods):\n",
    "    model = LpProblem(name=\"Reductions\", sense=LpMaximize)\n",
    "\n",
    "    # Linear ineq solvers can't handle true inequalities, so maybe it's best to just use epsilon differences?\n",
    "    epsilon = 0.01\n",
    "\n",
    "    variables = dict(zip(list(string.ascii_lowercase[0:interval_count]), \n",
    "                    [LpVariable(name = symbol, lowBound=0, upBound=1) for symbol in list(string.ascii_lowercase[0:interval_count])]))\n",
    "    \n",
    "    # Add the constraints of the original sets\n",
    "    for index, row in intervals.iterrows():\n",
    "        variable = variables[index.lower()]\n",
    "        interval = row[\"interval\"]\n",
    "        if interval.left == P.CLOSED:\n",
    "            model += (variable>=interval.lower, f\"Init_{index}_lower\")\n",
    "        else:\n",
    "            model += (variable>=interval.lower + epsilon, f\"Init_{index}_lower\")\n",
    "            \n",
    "        if interval.right == P.CLOSED:\n",
    "            model += (variable<=interval.upper, f\"Init_{index}_upper\")\n",
    "        else:\n",
    "            model += (variable<=interval.upper - epsilon, f\"Init_{index}_upper\")\n",
    "\n",
    "\n",
    "    # Add the constraints imposed by summation of the original sets\n",
    "    if d == delta:\n",
    "        for index, row in neighbourhoods.iterrows():\n",
    "            if (row[\"W\"]):\n",
    "                model += (sum(map(lambda x: variables[x.lower()], row[\"combination\"])) >= alpha, f\"Constraint_{index}_W\")\n",
    "            if (row[\"B\"]):\n",
    "                model += (sum(map(lambda x: variables[x.lower()], row[\"combination\"])) <= beta, f\"Constraint_{index}_B\")\n",
    "\n",
    "    else:  \n",
    "        for index, row in neighbourhoods.iterrows():\n",
    "            if (len(row[\"combination\"])==d) and row[\"OK\"]:\n",
    "                model += (sum(map(lambda x: variables[x.lower()], row[\"combination\"])) <= beta, f\"Constraint_{index}_B\")\n",
    "            elif (row[\"OK\"]):\n",
    "                model += (sum(map(lambda x: variables[x.lower()], row[\"combination\"])) >= alpha, f\"Constraint_{index}_W\")\n",
    "\n",
    "    if model.solve() == -1:\n",
    "        print(\"No reductions found.\")\n",
    "    \n",
    "    else:\n",
    "        print(\"Reductions found: \")\n",
    "        for var in model.variables()[1:]:\n",
    "            intervals.loc[var.name.upper(), \"reduction\"] = var.value()\n",
    "        \n",
    "        print(intervals)\n",
    "        print_retor(neighbourhoods)\n",
    "        \n"
   ]
  },
  {
   "cell_type": "code",
   "execution_count": 67,
   "metadata": {},
   "outputs": [
    {
     "output_type": "stream",
     "name": "stdout",
     "text": [
      "0-round solution found.\nChoose any single value from [0.3333333333333333].\n"
     ]
    }
   ],
   "source": [
    "# First check for 0-round solution\n",
    "\n",
    "easy_solution_interval = P.closed(alpha/delta, beta/d)\n",
    "easy_solutions = (easy_solution_interval & Sigma)\n",
    "if not easy_solutions.empty:\n",
    "    print(\"0-round solution found.\")\n",
    "    print(f\"Choose any single value from {P.to_string(easy_solutions, **params)}.\")\n",
    "\n",
    "# Try to find some reductions\n",
    "else:\n",
    "    print(\"No 0-round solutions found.\")\n",
    "    find_reductions(neighbourhoods)\n",
    "    \n",
    "    \n"
   ]
  },
  {
   "cell_type": "code",
   "execution_count": null,
   "metadata": {},
   "outputs": [],
   "source": []
  }
 ]
}