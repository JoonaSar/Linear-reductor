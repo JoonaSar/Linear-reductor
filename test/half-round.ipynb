{
 "metadata": {
  "language_info": {
   "codemirror_mode": {
    "name": "ipython",
    "version": 3
   },
   "file_extension": ".py",
   "mimetype": "text/x-python",
   "name": "python",
   "nbconvert_exporter": "python",
   "pygments_lexer": "ipython3",
   "version": "3.8.5"
  },
  "orig_nbformat": 2,
  "kernelspec": {
   "name": "python3",
   "display_name": "Python 3",
   "language": "python"
  }
 },
 "nbformat": 4,
 "nbformat_minor": 2,
 "cells": [
  {
   "cell_type": "code",
   "execution_count": 1,
   "metadata": {},
   "outputs": [],
   "source": [
    "import pandas as pd \n",
    "import numpy as np \n"
   ]
  },
  {
   "cell_type": "code",
   "execution_count": 67,
   "metadata": {},
   "outputs": [],
   "source": [
    "A = pd.read_csv(\"test.csv\", sep=\",\", header = None).to_numpy()"
   ]
  },
  {
   "cell_type": "code",
   "execution_count": 68,
   "metadata": {},
   "outputs": [
    {
     "output_type": "stream",
     "name": "stdout",
     "text": [
      "[[-1  1  0  1]\n [ 2 -1  2  0]\n [ 0  1 -1  1]\n [ 2  0  2 -1]]\n1 loops found!\nf(2, 0) = f(0, 2)\n1 loops found!\nf(3, 1) = f(1, 3)\n1 loops found!\nf(0, 2) = f(2, 0)\n1 loops found!\nf(1, 3) = f(3, 1)\n"
     ]
    }
   ],
   "source": [
    "valid(A)"
   ]
  },
  {
   "cell_type": "code",
   "execution_count": 66,
   "metadata": {},
   "outputs": [],
   "source": [
    "def valid(A):\n",
    "    print(A)\n",
    "    size = A.shape[0]\n",
    "    if(A.shape[0]!=A.shape[1]):\n",
    "        print(\"A is not a square matrix!\")\n",
    "        return\n",
    "    for y in range(size):\n",
    "        for x in range(size):\n",
    "            if x==y: continue\n",
    "            collisions = np.where(A[:, y]==A[y, x])[0]\n",
    "            if collisions.shape[0] !=0 :\n",
    "                print(f\"{collisions.shape[0]} loops found!\")\n",
    "                for x2 in collisions:\n",
    "                    print(f'f({x}, {y}) = f({y}, {x2})')"
   ]
  },
  {
   "cell_type": "code",
   "execution_count": 52,
   "metadata": {},
   "outputs": [
    {
     "output_type": "execute_result",
     "data": {
      "text/plain": [
       "0"
      ]
     },
     "metadata": {},
     "execution_count": 52
    }
   ],
   "source": [
    "np.where(A[:,1]==-1)[0].shape[0]"
   ]
  },
  {
   "cell_type": "code",
   "execution_count": null,
   "metadata": {},
   "outputs": [],
   "source": []
  }
 ]
}