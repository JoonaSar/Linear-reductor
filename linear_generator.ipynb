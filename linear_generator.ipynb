{
 "metadata": {
  "language_info": {
   "codemirror_mode": {
    "name": "ipython",
    "version": 3
   },
   "file_extension": ".py",
   "mimetype": "text/x-python",
   "name": "python",
   "nbconvert_exporter": "python",
   "pygments_lexer": "ipython3",
   "version": "3.8.5"
  },
  "orig_nbformat": 4,
  "kernelspec": {
   "name": "python3",
   "display_name": "Python 3.8.5 64-bit"
  },
  "interpreter": {
   "hash": "31f2aee4e71d21fbe5cf8b01ff0e069b9275f58929596ceb00d14d90e3e16cd6"
  }
 },
 "nbformat": 4,
 "nbformat_minor": 2,
 "cells": [
  {
   "cell_type": "code",
   "execution_count": 330,
   "metadata": {},
   "outputs": [],
   "source": [
    "import numpy as np \n",
    "import pandas as pd \n",
    "import portion as P\n",
    "import itertools\n",
    "from scipy.optimize import linprog\n",
    "from pulp import LpMaximize, LpProblem, LpStatus, lpSum, LpVariable \n",
    "from math import prod\n"
   ]
  },
  {
   "source": [
    "# Transforming LCL:s to linear problems\n",
    "\n",
    "Goal is to find $\\alpha, \\beta, a,b,c...$ such that if some $A, A, B$ is possible for active/passive nodes, then the corresponding $a+a+b \\leq \\beta / \\geq \\alpha$. Additionally it would be great to see if these values $a, b, c...$ could be expanded to intervals."
   ],
   "cell_type": "markdown",
   "metadata": {}
  },
  {
   "source": [
    "Example: problem\n",
    "\n",
    "```\n",
    "A AB AB\n",
    "\n",
    "B AB AB\n",
    "```\n",
    "can be interpreted as $\\alpha = 1, \\beta=2, A = \\left[ 0,\\frac{1}{3}\\right), B =  \\left(\\frac{2}{3}, 1\\right]$.\n",
    "\n",
    "What is the system of linear inequalities that could imply this?\n",
    "\n",
    "\\begin{align*}\n",
    "3a &\\leq \\beta \\\\\n",
    "2a+b &\\leq \\beta \\\\\n",
    "a+2b &\\leq \\beta \\\\\n",
    "3b &> \\beta \\\\\n",
    "\\\\\n",
    "3a &< \\alpha \\\\\n",
    "2a+b &\\geq \\alpha \\\\\n",
    "a+2b &\\geq \\alpha \\\\\n",
    "3b &\\geq \\alpha\n",
    "\n",
    "\\end{align*}"
   ],
   "cell_type": "markdown",
   "metadata": {}
  },
  {
   "cell_type": "code",
   "execution_count": 331,
   "metadata": {},
   "outputs": [],
   "source": [
    "# Initialize variables\n",
    "\n",
    "# Add active and passive constraints in RE-formalism\n",
    "active = \"\"\"\n",
    "A A A\n",
    "A A B\n",
    "A A C\n",
    "A B B\n",
    "\"\"\"\n",
    "passive = \"\"\"\n",
    "A A C\n",
    "A B C\n",
    "A C C\n",
    "B B B\n",
    "B B C\n",
    "B C C\n",
    "C C C\n",
    "\"\"\"\n",
    "\n",
    "# Enable/disable debug mode\n",
    "debug = True"
   ]
  },
  {
   "cell_type": "code",
   "execution_count": 332,
   "metadata": {},
   "outputs": [
    {
     "output_type": "stream",
     "name": "stdout",
     "text": [
      "  combination  active  passive\n0   (A, A, A)    True    False\n1   (A, A, B)    True    False\n2   (A, A, C)    True     True\n3   (A, B, B)    True    False\n4   (A, B, C)   False     True\n5   (A, C, C)   False     True\n6   (B, B, B)   False     True\n7   (B, B, C)   False     True\n8   (B, C, C)   False     True\n9   (C, C, C)   False     True\n"
     ]
    }
   ],
   "source": [
    "actives = list(map(lambda x: x.split(\" \"), active.strip().split(\"\\n\")))\n",
    "passives = list(map(lambda x: x.split(\" \"), passive.strip().split(\"\\n\")))\n",
    "\n",
    "variables = sorted(list(set(list(\"\".join(\"\".join([active, passive]).split())))))\n",
    "\n",
    "combinations = pd.DataFrame({\"combination\": itertools.combinations_with_replacement(variables, len(passives[0]))})\n",
    "combinations[\"active\"] = False\n",
    "combinations[\"passive\"] = False\n",
    "\n",
    "for row in passives:\n",
    "    for c in map(lambda c: tuple(sorted(c)), itertools.product(*row)):\n",
    "        combinations.loc[combinations[\"combination\"]==c, \"passive\"] = True \n",
    "\n",
    "for row in actives:\n",
    "    for c in map(lambda c: tuple(sorted(c)), itertools.product(*row)):\n",
    "        combinations.loc[combinations[\"combination\"]==c, \"active\"] = True \n",
    "\n",
    "if debug: print(combinations)\n"
   ]
  },
  {
   "cell_type": "code",
   "execution_count": 333,
   "metadata": {},
   "outputs": [
    {
     "output_type": "stream",
     "name": "stdout",
     "text": [
      "Reductions:\nMAXIMIZE\n0*alpha_1 + 0*beta + 0\nSUBJECT TO\n0_Active: 3 A - alpha_1 >= 0\n\n0_not_Passive: 3 A - beta >= 0.001\n\n1_Active: 2 A + B - alpha_1 >= 0\n\n1_not_Passive: 2 A + B - beta >= 0.001\n\n2_Active: 2 A + C - alpha_1 >= 0\n\n2_Passive: 2 A + C - beta <= 0\n\n3_Active: A + 2 B - alpha_1 >= 0\n\n3_not_Passive: A + 2 B - beta >= 0.001\n\n4_not_Active: A + B + C - alpha_1 <= -0.001\n\n4_Passive: A + B + C - beta <= 0\n\n5_not_Active: A + 2 C - alpha_1 <= -0.001\n\n5_Passive: A + 2 C - beta <= 0\n\n6_not_Active: 3 B - alpha_1 <= -0.001\n\n6_Passive: 3 B - beta <= 0\n\n7_not_Active: 2 B + C - alpha_1 <= -0.001\n\n7_Passive: 2 B + C - beta <= 0\n\n8_not_Active: B + 2 C - alpha_1 <= -0.001\n\n8_Passive: B + 2 C - beta <= 0\n\n9_not_Active: 3 C - alpha_1 <= -0.001\n\n9_Passive: 3 C - beta <= 0\n\nVARIABLES\nA <= 1 Continuous\nB <= 1 Continuous\nC <= 1 Continuous\nalpha_1 <= 10 Continuous\nbeta <= 10 Continuous\n\nLinear model found:\nA 0.005\nB 0.003\nC 0.0\nalpha_1 0.01\nbeta 0.01\n"
     ]
    }
   ],
   "source": [
    "epsilon = 0.001\n",
    "\n",
    "\n",
    "model = LpProblem(name=\"Reductions\", sense=LpMaximize)\n",
    "\n",
    "alpha = LpVariable(name = \"alpha_0\", lowBound=0, upBound=10)\n",
    "\n",
    "alpha = LpVariable(name = \"alpha_1\", lowBound=0, upBound=10)\n",
    "\n",
    "pulp_variables = dict(zip(variables, [LpVariable(name = v, lowBound=0, upBound=1) for v in variables]))\n",
    "\n",
    "# Try different targets in order to get some readable solutions\n",
    "model += beta-alpha\n",
    "\n",
    "# Add initial constraints\n",
    "#for v in pulp_variables.values():\n",
    "#    model += (v>=0, f\"{v}, low\")\n",
    "#    model += (v<=1, f\"{v}, high\")\n",
    "\n",
    "# Add constraints\n",
    "\n",
    "for index, row in combinations.iterrows():\n",
    "    if row[\"active\"]:\n",
    "        model += (sum(pulp_variables[c] for c in row[\"combination\"])>=alpha, f\"{index}_Active\")\n",
    "    else:\n",
    "        model += (sum(pulp_variables[c] for c in row[\"combination\"])<= alpha-epsilon, f\"{index}_not_Active\")\n",
    "\n",
    "    if row[\"passive\"]:\n",
    "        model += (sum(pulp_variables[c] for c in row[\"combination\"])<=beta, f\"{index}_Passive\")\n",
    "    else:\n",
    "        model += (sum(pulp_variables[c] for c in row[\"combination\"])>=beta+epsilon, f\"{index}_not_Passive\")\n",
    "    \n",
    "\n",
    "    \n",
    "if debug: print(model)\n",
    "\n",
    "if model.solve() == 1:\n",
    "    print(\"Linear model found:\")\n",
    "\n",
    "    for var in model.variables():\n",
    "        print(var, var.value())"
   ]
  },
  {
   "cell_type": "code",
   "execution_count": null,
   "metadata": {},
   "outputs": [],
   "source": []
  }
 ]
}