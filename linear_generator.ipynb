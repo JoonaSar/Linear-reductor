{
 "metadata": {
  "language_info": {
   "codemirror_mode": {
    "name": "ipython",
    "version": 3
   },
   "file_extension": ".py",
   "mimetype": "text/x-python",
   "name": "python",
   "nbconvert_exporter": "python",
   "pygments_lexer": "ipython3",
   "version": "3.8.5"
  },
  "orig_nbformat": 4,
  "kernelspec": {
   "name": "python3",
   "display_name": "Python 3.8.5 64-bit"
  },
  "interpreter": {
   "hash": "31f2aee4e71d21fbe5cf8b01ff0e069b9275f58929596ceb00d14d90e3e16cd6"
  }
 },
 "nbformat": 4,
 "nbformat_minor": 2,
 "cells": [
  {
   "cell_type": "code",
   "execution_count": 14,
   "metadata": {},
   "outputs": [],
   "source": [
    "import numpy as np \n",
    "import pandas as pd \n",
    "import portion as P\n",
    "from scipy.optimize import linprog\n",
    "from pulp import LpMaximize, LpProblem, LpStatus, lpSum, LpVariable "
   ]
  },
  {
   "source": [
    "# Transforming LCL:s to linear problems\n",
    "\n",
    "Goal is to find $\\alpha, \\beta, a,b,c...$ such that if some $A, A, B$ is possible for active/passive nodes, then the corresponding $a+a+b \\leq \\beta / \\geq \\alpha$. Additionally it would be great to see if these values $a, b, c...$ could be expanded to intervals."
   ],
   "cell_type": "markdown",
   "metadata": {}
  },
  {
   "source": [
    "Example: problem\n",
    "\n",
    "```\n",
    "A AB AB\n",
    "\n",
    "B AB AB\n",
    "```\n",
    "can be interpreted as $\\alpha = 1, \\beta=2, A = \\left[ 0,\\frac{1}{3}\\right), B =  \\left(\\frac{2}{3}, 1\\right]$.\n",
    "\n",
    "What is the system of linear inequalities that could imply this?\n",
    "\n",
    "\\begin{align*}\n",
    "3a &\\leq \\beta \\\\\n",
    "2a+b &\\leq \\beta \\\\\n",
    "a+2b &\\leq \\beta \\\\\n",
    "3b &> \\beta \\\\\n",
    "\\\\\n",
    "3a &< \\alpha \\\\\n",
    "2a+b &\\geq \\alpha \\\\\n",
    "a+2b &\\geq \\alpha \\\\\n",
    "3b &\\geq \\alpha\n",
    "\n",
    "\\end{align*}"
   ],
   "cell_type": "markdown",
   "metadata": {}
  },
  {
   "cell_type": "code",
   "execution_count": 15,
   "metadata": {},
   "outputs": [
    {
     "output_type": "stream",
     "name": "stdout",
     "text": [
      "\n Reductions:\nMAXIMIZE\n-1*a + 1*b + 0\nSUBJECT TO\n1: 3 a - beta <= 0\n\n2: 2 a + b - beta <= 0\n\n3: a + 2 b - beta <= 0\n\n4: 3 b - beta >= 0.0001\n\n5: 3 a - alpha <= -0.0001\n\n6: 2 a - alpha + b >= 0\n\n7: a - alpha + 2 b >= 0\n\n8: a - alpha + 2 b >= 0\n\nVARIABLES\na <= 1 Continuous\nalpha <= 10 Continuous\nb <= 1 Continuous\nbeta <= 10 Continuous\n \n\nSuccess!\nalpha 0.0001\nb 1.0\nbeta 2.0\n"
     ]
    }
   ],
   "source": [
    "epsilon = 0.0001\n",
    "\n",
    "model = LpProblem(name=\"Reductions\", sense=LpMaximize)\n",
    "\n",
    "a = LpVariable(name = \"a\", lowBound=0, upBound=1)\n",
    "b = LpVariable(name = \"b\", lowBound=0, upBound=1)\n",
    "alpha = LpVariable(name = \"alpha\", lowBound=0, upBound=10)\n",
    "beta = LpVariable(name = \"beta\", lowBound=0, upBound=10)\n",
    "    \n",
    "model += b-a\n",
    "\n",
    "model += (3*a<=beta, \"1\")\n",
    "model += (2*a+b<=beta, \"2\")\n",
    "model += (a+2*b<=beta, \"3\")\n",
    "model += (3*b>=beta+epsilon, \"4\")\n",
    "\n",
    "model += (3*a<=alpha-epsilon, \"5\")\n",
    "model += (2*a+b>=alpha, \"6\")\n",
    "model += (a+2*b>=alpha, \"7\")\n",
    "model += (a+2*b>=alpha, \"8\")\n",
    "\n",
    "\n",
    "print(\"\\n\", model, \"\\n\")\n",
    "\n",
    "# Search for solutions to the given system of inequalities\n",
    "if model.solve() == 1:\n",
    "    print(\"Success!\")\n",
    "\n",
    "for var in model.variables():\n",
    "    print(var, var.value())"
   ]
  },
  {
   "cell_type": "code",
   "execution_count": null,
   "metadata": {},
   "outputs": [],
   "source": []
  }
 ]
}